{
 "cells": [
  {
   "cell_type": "code",
   "execution_count": 2,
   "metadata": {},
   "outputs": [
    {
     "ename": "ModuleNotFoundError",
     "evalue": "No module named 'cv2'",
     "output_type": "error",
     "traceback": [
      "\u001b[1;31m---------------------------------------------------------------------------\u001b[0m",
      "\u001b[1;31mModuleNotFoundError\u001b[0m                       Traceback (most recent call last)",
      "Cell \u001b[1;32mIn[2], line 1\u001b[0m\n\u001b[1;32m----> 1\u001b[0m \u001b[38;5;28;01mimport\u001b[39;00m \u001b[38;5;21;01mcv2\u001b[39;00m\n\u001b[0;32m      2\u001b[0m \u001b[38;5;28;01mimport\u001b[39;00m \u001b[38;5;21;01mmediapipe\u001b[39;00m \u001b[38;5;28;01mas\u001b[39;00m \u001b[38;5;21;01mmp\u001b[39;00m\n\u001b[0;32m      3\u001b[0m \u001b[38;5;28;01mfrom\u001b[39;00m \u001b[38;5;21;01mmath\u001b[39;00m \u001b[38;5;28;01mimport\u001b[39;00m hypot\n",
      "\u001b[1;31mModuleNotFoundError\u001b[0m: No module named 'cv2'"
     ]
    }
   ],
   "source": [
    "import cv2\n",
    "import mediapipe as mp\n",
    "from math import hypot\n",
    "from ctypes import cast, POINTER\n",
    "from comtypes import CLSCTX_ALL\n",
    "from pycaw.pycaw import AudioUtilities, IAudioEndpointVolume\n",
    "import numpy as np"
   ]
  },
  {
   "cell_type": "code",
   "execution_count": null,
   "metadata": {},
   "outputs": [],
   "source": [
    "cap = cv2.VideoCapture(0)\n",
    "\n",
    "mpHands = mp.solutions.hands\n",
    "hands = mpHands.Hands()\n",
    "mpDraw = mp.solutions.drawing_utils\n",
    "\n",
    "devices = AudioUtilities.GetSpeakers()\n",
    "interface = devices.Activate(IAudioEndpointVolume._iid_, CLSCTX_ALL, None)\n",
    "volume = cast(interface, POINTER(IAudioEndpointVolume))\n",
    "\n",
    "volMin,volMax = volume.GetVolumeRange()[:2]\n",
    "\n",
    "while True:\n",
    "    success,img = cap.read()\n",
    "    imgRGB = cv2.cvtColor(img,cv2.COLOR_BGR2RGB)\n",
    "    results = hands.process(imgRGB)\n",
    "\n",
    "    lmList = []\n",
    "    if results.multi_hand_landmarks:\n",
    "        for handlandmark in results.multi_hand_landmarks:\n",
    "            for id,lm in enumerate(handlandmark.landmark):\n",
    "                h,w,_ = img.shape\n",
    "                cx,cy = int(lm.x*w),int(lm.y*h)\n",
    "                lmList.append([id,cx,cy])\n",
    "            mpDraw.draw_landmarks(img,handlandmark,mpHands.HAND_CONNECTIONS)\n",
    "\n",
    "    if lmList != []:\n",
    "        x1,y1 = lmList[4][1],lmList[4][2]\n",
    "        x2,y2 = lmList[8][1],lmList[8][2]\n",
    "\n",
    "        cv2.circle(img,(x1,y1),4,(255,0,0),cv2.FILLED)\n",
    "        cv2.circle(img,(x2,y2),4,(255,0,0),cv2.FILLED)\n",
    "        cv2.line(img,(x1,y1),(x2,y2),(255,0,0),3)\n",
    "\n",
    "        length = hypot(x2-x1,y2-y1)\n",
    "\n",
    "        vol = np.interp(length,[15,220],[volMin,volMax])\n",
    "        print(vol,length)\n",
    "        volume.SetMasterVolumeLevel(vol, None)\n"
   ]
  }
 ],
 "metadata": {
  "kernelspec": {
   "display_name": "Python 3",
   "language": "python",
   "name": "python3"
  },
  "language_info": {
   "codemirror_mode": {
    "name": "ipython",
    "version": 3
   },
   "file_extension": ".py",
   "mimetype": "text/x-python",
   "name": "python",
   "nbconvert_exporter": "python",
   "pygments_lexer": "ipython3",
   "version": "3.11.5"
  }
 },
 "nbformat": 4,
 "nbformat_minor": 2
}
