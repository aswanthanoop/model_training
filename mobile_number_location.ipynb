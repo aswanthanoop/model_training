{
 "cells": [
  {
   "cell_type": "code",
   "execution_count": 3,
   "metadata": {},
   "outputs": [],
   "source": [
    "import phonenumbers\n",
    "from phonenumbers import timezone\n",
    "from phonenumbers import geocoder\n",
    "from phonenumbers import carrier"
   ]
  },
  {
   "cell_type": "code",
   "execution_count": null,
   "metadata": {},
   "outputs": [],
   "source": [
    "number = input(\"Enter the Phone number with country code : \")\n",
    "phoneNumber  = phonenumbers.parse(number)\n",
    "timeZone = timezone.time_zones_for_number(phoneNumber)\n",
    "print(\"Timezone : \"+str(timeZone))\n",
    "geolocation = geocoder.description_for_number(phoneNumber,\"en\")\n",
    "print(\"Location : \" + geolocation)\n",
    "service = carrier.name_for_number(phoneNumber,\"en\")\n",
    "print(\"Service Provider : \"+ service)"
   ]
  }
 ],
 "metadata": {
  "kernelspec": {
   "display_name": "Python 3",
   "language": "python",
   "name": "python3"
  },
  "language_info": {
   "codemirror_mode": {
    "name": "ipython",
    "version": 3
   },
   "file_extension": ".py",
   "mimetype": "text/x-python",
   "name": "python",
   "nbconvert_exporter": "python",
   "pygments_lexer": "ipython3",
   "version": "3.11.5"
  }
 },
 "nbformat": 4,
 "nbformat_minor": 2
}
